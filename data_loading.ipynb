{
 "cells": [
  {
   "cell_type": "code",
   "execution_count": 31,
   "id": "b20a27a0",
   "metadata": {},
   "outputs": [],
   "source": [
    "import pandas as pd\n",
    "\n",
    "# Charger le fichier de données initial\n",
    "file_path = 'indicateurs-macro-economiques_comptes_nationnaux_fr.xlsx'"
   ]
  },
  {
   "cell_type": "code",
   "execution_count": 32,
   "id": "01dccf26",
   "metadata": {},
   "outputs": [],
   "source": [
    "# Lire les données en ignorant les trois premières lignes de métadonnées\n",
    "data = pd.read_excel(file_path, skiprows=3)"
   ]
  },
  {
   "cell_type": "code",
   "execution_count": 33,
   "id": "034f9673",
   "metadata": {},
   "outputs": [],
   "source": [
    "# Renommer les colonnes pour plus de clarté\n",
    "data.columns = ['Indicateur', 'NA', 'Moyenne_2010_17', '2018', '2019', '2020', '2021', '2022']"
   ]
  },
  {
   "cell_type": "code",
   "execution_count": 34,
   "id": "159b2f1f",
   "metadata": {},
   "outputs": [],
   "source": [
    "# Supprimer la colonne inutile 'NA'\n",
    "data.drop(columns=['NA'], inplace=True)\n"
   ]
  },
  {
   "cell_type": "code",
   "execution_count": 35,
   "id": "820a7185",
   "metadata": {},
   "outputs": [],
   "source": [
    "# Supprimer les lignes qui sont entièrement vides\n",
    "data.dropna(how='all', inplace=True)"
   ]
  },
  {
   "cell_type": "code",
   "execution_count": 41,
   "id": "ff487508",
   "metadata": {},
   "outputs": [
    {
     "name": "stdout",
     "output_type": "stream",
     "text": [
      "<class 'pandas.core.frame.DataFrame'>\n",
      "Index: 248 entries, 0 to 335\n",
      "Data columns (total 7 columns):\n",
      " #   Column           Non-Null Count  Dtype  \n",
      "---  ------           --------------  -----  \n",
      " 0   Indicateur       240 non-null    object \n",
      " 1   Moyenne_2010_17  248 non-null    object \n",
      " 2   2018             248 non-null    float64\n",
      " 3   2019             248 non-null    float64\n",
      " 4   2020             248 non-null    float64\n",
      " 5   2021             248 non-null    float64\n",
      " 6   2022             248 non-null    float64\n",
      "dtypes: float64(5), object(2)\n",
      "memory usage: 15.5+ KB\n"
     ]
    }
   ],
   "source": [
    "# Remplir les valeurs manquantes dans les colonnes numériques avec la valeur 0\n",
    "for year in ['Moyenne_2010_17', '2018', '2019', '2020', '2021', '2022']:\n",
    "    data[year] = data[year].fillna(0)"
   ]
  },
  {
   "cell_type": "code",
   "execution_count": null,
   "id": "4058cb66",
   "metadata": {},
   "outputs": [],
   "source": [
    "# Convertir les colonnes de l'année en type float\n",
    "for year in ['Moyenne_2010_17', '2018', '2019', '2020', '2021', '2022']:\n",
    "    data[year] = data[year].astype(float)"
   ]
  },
  {
   "cell_type": "code",
   "execution_count": null,
   "id": "bfbf342a",
   "metadata": {},
   "outputs": [],
   "source": [
    "# Supprimer les lignes où l'indicateur est une ligne de résumé ou de source non pertinente\n",
    "data = data[~data['Indicateur'].str.contains('Source|Suite|Fin|Indicateurs macro-économiques|Haut Commissariat au Plan', na=False)]\n"
   ]
  },
  {
   "cell_type": "code",
   "execution_count": null,
   "id": "9f1321d0",
   "metadata": {},
   "outputs": [],
   "source": [
    "# Réinitialiser l'index pour avoir un DataFrame propre\n",
    "data.reset_index(drop=True, inplace=True)"
   ]
  },
  {
   "cell_type": "code",
   "execution_count": null,
   "id": "5e2fa7b8",
   "metadata": {},
   "outputs": [],
   "source": [
    "# Enregistrer les données nettoyées dans un nouveau fichier Excel\n",
    "cleaned_file_path = 'indicateurs_macro_economiques.xlsx'\n",
    "data.to_excel(cleaned_file_path, index=False)\n",
    "\n",
    "print(\"Data cleaned and saved to\", cleaned_file_path)"
   ]
  }
 ],
 "metadata": {
  "kernelspec": {
   "display_name": "Python 3 (ipykernel)",
   "language": "python",
   "name": "python3"
  },
  "language_info": {
   "codemirror_mode": {
    "name": "ipython",
    "version": 3
   },
   "file_extension": ".py",
   "mimetype": "text/x-python",
   "name": "python",
   "nbconvert_exporter": "python",
   "pygments_lexer": "ipython3",
   "version": "3.11.5"
  }
 },
 "nbformat": 4,
 "nbformat_minor": 5
}
