{
 "cells": [
  {
   "cell_type": "code",
   "execution_count": null,
   "id": "548d39d2",
   "metadata": {},
   "outputs": [],
   "source": [
    "from bokeh.io import curdoc, show\n",
    "from bokeh.models import ColumnDataSource, Select, TabPanel, Tabs, HoverTool\n",
    "from bokeh.plotting import figure\n",
    "from bokeh.layouts import column, row\n",
    "import pandas as pd"
   ]
  },
  {
   "cell_type": "code",
   "execution_count": null,
   "id": "d970e2e6",
   "metadata": {},
   "outputs": [],
   "source": [
    "# Charger les données nettoyées\n",
    "file_path = 'cleaned_indicateurs_macro_economiques.xlsx'\n",
    "data_clean = pd.read_excel(file_path)\n"
   ]
  },
  {
   "cell_type": "code",
   "execution_count": null,
   "id": "7c5ad80b",
   "metadata": {},
   "outputs": [],
   "source": [
    "# Préparer les années et les options pour les sélections\n",
    "years = ['2018', '2019', '2020', '2021', '2022']\n",
    "sectors = ['Secteur primaire', 'Secteur secondaire', 'Secteur tertiaire']"
   ]
  },
  {
   "cell_type": "code",
   "execution_count": null,
   "id": "0799c787",
   "metadata": {},
   "outputs": [],
   "source": [
    "# Fonction pour préparer les données pour Bokeh\n",
    "def prepare_data(indicator_name):\n",
    "    data = data_clean[data_clean['Indicateur'].str.contains(indicator_name)]\n",
    "    return ColumnDataSource(data={\n",
    "        'year': years,\n",
    "        'value': data.iloc[0, 2:].astype(float)\n",
    "    })"
   ]
  },
  {
   "cell_type": "code",
   "execution_count": null,
   "id": "1bc993ad",
   "metadata": {},
   "outputs": [],
   "source": [
    "# Fonction pour créer une figure avec hover\n",
    "def create_figure(title, x_label, y_label, source, color, legend):\n",
    "    p = figure(title=title, x_axis_label=x_label, y_axis_label=y_label, plot_height=300, plot_width=700)\n",
    "    p.line(x='year', y='value', source=source, line_width=2, color=color, legend_label=legend)\n",
    "    p.circle(x='year', y='value', source=source, size=8, fill_color=\"white\", legend_label=legend)\n",
    "    hover = HoverTool()\n",
    "    hover.tooltips = [(\"Année\", \"@year\"), (\"Valeur\", \"@value\")]\n",
    "    p.add_tools(hover)\n",
    "    return p"
   ]
  },
  {
   "cell_type": "code",
   "execution_count": null,
   "id": "73d0f971",
   "metadata": {},
   "outputs": [],
   "source": [
    "# Fonction pour filtrer les données par secteur\n",
    "def filter_data(sector):\n",
    "    data = data_clean[data_clean['Indicateur'].str.contains(sector)]\n",
    "    return ColumnDataSource(data={\n",
    "        'indicator': data['Indicateur'],\n",
    "        'value': data[years].mean(axis=1)\n",
    "    })"
   ]
  },
  {
   "cell_type": "code",
   "execution_count": null,
   "id": "832a13b9",
   "metadata": {},
   "outputs": [],
   "source": [
    "# Tableau de Bord 1 : PIB et Secteur Primaire\n",
    "source_pib = prepare_data(\"PIB en volume\")\n",
    "p1_1 = create_figure(\"Évolution du PIB en volume\", 'Année', 'Croissance (%)', source_pib, \"blue\", \"Croissance du PIB\")\n"
   ]
  },
  {
   "cell_type": "code",
   "execution_count": null,
   "id": "71ef881c",
   "metadata": {},
   "outputs": [],
   "source": [
    "# Sélections dynamiques pour le secteur primaire\n",
    "sector_select = Select(title=\"Sélectionner le secteur\", value=sectors[0], options=sectors)\n",
    "source_sector = filter_data(sectors[0])\n",
    "p1_2 = figure(title=\"Valeurs ajoutées par secteur\", x_axis_label='Indicateur', y_axis_label='Valeur', x_range=source_sector.data['indicator'], plot_height=300, plot_width=700)\n",
    "p1_2.vbar(x='indicator', top='value', source=source_sector, width=0.9)\n",
    "hover_sector = HoverTool()\n",
    "hover_sector.tooltips = [(\"Indicateur\", \"@indicator\"), (\"Valeur\", \"@value\")]\n",
    "p1_2.add_tools(hover_sector)\n",
    "p1_2.xaxis.major_label_orientation = 1.2\n"
   ]
  },
  {
   "cell_type": "code",
   "execution_count": null,
   "id": "cba4c6be",
   "metadata": {},
   "outputs": [],
   "source": [
    "def update_sector(attr, old, new):\n",
    "    sector = sector_select.value\n",
    "    new_data = filter_data(sector)\n",
    "    source_sector.data = new_data.data\n",
    "    p1_2.x_range.factors = new_data.data['indicator']\n",
    "\n",
    "sector_select.on_change('value', update_sector)\n",
    "\n",
    "dashboard1 = column(p1_1, sector_select, p1_2)\n"
   ]
  },
  {
   "cell_type": "code",
   "execution_count": null,
   "id": "65e31d29",
   "metadata": {},
   "outputs": [],
   "source": [
    "# Tableau de Bord 2 : Secteur Secondaire\n",
    "source_sec = prepare_data(\"Secteur secondaire\")\n",
    "p2_1 = create_figure(\"Valeurs ajoutées par secteur secondaire\", 'Année', 'Croissance (%)', source_sec, \"red\", \"Secteur secondaire\")\n"
   ]
  },
  {
   "cell_type": "code",
   "execution_count": null,
   "id": "5278bf77",
   "metadata": {},
   "outputs": [],
   "source": [
    "# Sélections dynamiques pour les sous-secteurs du secteur secondaire\n",
    "sub_sectors = data_clean['Indicateur'][data_clean['Indicateur'].str.contains(\"Secteur secondaire\")].unique()\n",
    "sub_sector_select = Select(title=\"Sélectionner le sous-secteur\", value=sub_sectors[0], options=list(sub_sectors))\n",
    "source_sub_sector = prepare_data(sub_sectors[0])\n",
    "p2_2 = create_figure(\"Valeurs ajoutées par sous-secteur\", 'Année', 'Croissance (%)', source_sub_sector, \"green\", \"Sous-secteur\")\n",
    "def update_sub_sector(attr, old, new):\n",
    "    sub_sector = sub_sector_select.value\n",
    "    new_data = prepare_data(sub_sector)\n",
    "    source_sub_sector.data = new_data.data\n",
    "\n",
    "sub_sector_select.on_change('value', update_sub_sector)\n",
    "\n",
    "dashboard2 = column(p2_1, sub_sector_select, p2_2)"
   ]
  },
  {
   "cell_type": "code",
   "execution_count": null,
   "id": "7f871f48",
   "metadata": {},
   "outputs": [],
   "source": [
    "# Tableau de Bord 3 : Secteur Tertiaire et Investissements\n",
    "source_tert = prepare_data(\"Secteur tertiaire\")\n",
    "p3_1 = create_figure(\"Valeurs ajoutées par secteur tertiaire\", 'Année', 'Croissance (%)', source_tert, \"brown\", \"Secteur tertiaire\")\n"
   ]
  },
  {
   "cell_type": "code",
   "execution_count": null,
   "id": "a8224862",
   "metadata": {},
   "outputs": [],
   "source": [
    "# Sélections dynamiques pour les investissements\n",
    "investment_select = Select(title=\"Sélectionner l'indicateur d'investissement\", value=\"Formation brute du capital fixe en volume\", options=[\"Formation brute du capital fixe en volume\"])\n",
    "source_investment = prepare_data(investment_select.value)\n",
    "p3_2 = create_figure(\"Investissements\", 'Année', 'Évolution (%)', source_investment, \"orange\", \"Investissement\")\n",
    "\n",
    "def update_investment(attr, old, new):\n",
    "    investment = investment_select.value\n",
    "    new_data = prepare_data(investment)\n",
    "    source_investment.data = new_data.data\n",
    "\n",
    "investment_select.on_change('value', update_investment)\n",
    "\n",
    "dashboard3 = column(p3_1, investment_select, p3_2)\n"
   ]
  },
  {
   "cell_type": "code",
   "execution_count": null,
   "id": "5c77061a",
   "metadata": {},
   "outputs": [],
   "source": [
    "# Combiner tous les tableaux de bord\n",
    "tabs = Tabs(tabs=[\n",
    "    TabPanel(child=dashboard1, title=\"PIB et Secteur Primaire\"),\n",
    "    TabPanel(child=dashboard2, title=\"Secteur Secondaire\"),\n",
    "    TabPanel(child=dashboard3, title=\"Secteur Tertiaire et Investissements\")\n",
    "])\n",
    "\n",
    "# Ajouter les onglets au document courant\n",
    "curdoc().add_root(tabs)"
   ]
  }
 ],
 "metadata": {
  "kernelspec": {
   "display_name": "Python 3 (ipykernel)",
   "language": "python",
   "name": "python3"
  },
  "language_info": {
   "codemirror_mode": {
    "name": "ipython",
    "version": 3
   },
   "file_extension": ".py",
   "mimetype": "text/x-python",
   "name": "python",
   "nbconvert_exporter": "python",
   "pygments_lexer": "ipython3",
   "version": "3.11.5"
  }
 },
 "nbformat": 4,
 "nbformat_minor": 5
}
